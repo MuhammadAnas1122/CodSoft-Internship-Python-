{
 "cells": [
  {
   "cell_type": "markdown",
   "id": "52ba4a03",
   "metadata": {},
   "source": [
    "# To_Do List Application "
   ]
  },
  {
   "cell_type": "markdown",
   "id": "2710a8a1",
   "metadata": {},
   "source": [
    "### Libraries "
   ]
  },
  {
   "cell_type": "code",
   "execution_count": 26,
   "id": "440c1b04",
   "metadata": {},
   "outputs": [],
   "source": [
    "import tkinter\n",
    "import random\n",
    "import tkinter.messagebox\n",
    "import pickle as pkl"
   ]
  },
  {
   "cell_type": "markdown",
   "id": "1a39ce49",
   "metadata": {},
   "source": [
    "## Creating The GUI "
   ]
  },
  {
   "cell_type": "code",
   "execution_count": 55,
   "id": "40a2294b",
   "metadata": {},
   "outputs": [],
   "source": [
    "root = tkinter.Tk()\n",
    "\n",
    "\n",
    "# Tittle of The To-List \n",
    "lbl_title = tkinter.Label(root, text=\"To-do-List\",  bg=\"White\")\n",
    "lbl_title.pack()\n",
    "\n",
    "\n",
    "\n",
    "\n",
    "\n",
    "# Function To Add the task into list\n",
    "def add_task():\n",
    "    task = entry_task.get()\n",
    "    \n",
    "# I use if statement,  if the user want to add empty task than it will generate the eror  \n",
    "    if task !=\"\":\n",
    "        Listbox_task.insert(tkinter.END, task)\n",
    "        # Clear the task from listbox when it is added\n",
    "        entry_task.delete(0, tkinter.END)\n",
    "    else:\n",
    "        tkinter.messagebox.showwarning(title =\"Warning\" , message =\"You must Enter the Task  \")\n",
    "\n",
    "#Function to delete Task\n",
    "\n",
    "def del_task():\n",
    "    try:\n",
    "        task_index = Listbox_task.curselection()[0]\n",
    "        Listbox_task.delete(task_index)\n",
    "    except:\n",
    "         tkinter.messagebox.showwarning(title =\"Warning\" , message =\"You must Select  the Task   \")\n",
    "\n",
    "# For both load and save task we use Pickle Modeule \n",
    "\n",
    "def load_task():\n",
    "    try:\n",
    "        tasks = pkl.load(open(\"My tasks.txt\" , \"rb\"))\n",
    "        Listbox_task.delete(0, tkinter.END )\n",
    "        for task in tasks:\n",
    "            Listbox_task.insert(tkinter.END, task)\n",
    "    except:\n",
    "        tkinter.messagebox.showwarning(title =\"Warning\" , message =\"Sorry this File Can't Exist\")\n",
    "        \n",
    "\n",
    "def save_task():\n",
    "    tasks = Listbox_task.get(0, Listbox_task.size())\n",
    "    \n",
    "    pkl.dump(tasks, open(\"My tasks.txt \"  , \"wb\"))\n",
    "\n",
    "        \n",
    "# Create the frame \n",
    "frame_task = tkinter.Frame(root)\n",
    "frame_task.pack()\n",
    "\n",
    "        \n",
    "# Creating the list area(List box )\n",
    "Listbox_task = tkinter.Listbox(frame_task, height=4, width=50)\n",
    "Listbox_task.pack(side=tkinter.LEFT)\n",
    "\n",
    "\n",
    "\n",
    "\n",
    "# Creating the Scroll bar \n",
    "Scroll_bar = tkinter.Scrollbar(frame_task)\n",
    "Scroll_bar.pack(side=tkinter.RIGHT, fill=tkinter.Y)\n",
    "\n",
    "Listbox_task.config(yscrollcommand= Scroll_bar.set)\n",
    "Scroll_bar.config(command=Listbox_task.yview)\n",
    "\n",
    "\n",
    "\n",
    "\n",
    "\n",
    "# Creating the Entry Task \n",
    "entry_task = tkinter.Entry(root, width= 50)\n",
    "entry_task.pack()\n",
    "\n",
    "\n",
    "# Add_Button\n",
    "\n",
    "add_button = tkinter.Button(root, text= \"Add Task\", width= 45, command= add_task)\n",
    "add_button.pack()\n",
    "\n",
    "\n",
    "# Add_Button\n",
    "\n",
    "dell_button = tkinter.Button(root, text= \"dell Task\", width= 45, command= del_task,)\n",
    "dell_button.pack()\n",
    "\n",
    "# Add_Button\n",
    "\n",
    "load_button = tkinter.Button(root, text= \"load Tasks\", width= 45, command= load_task)\n",
    "load_button.pack()\n",
    "# Add_Button\n",
    "\n",
    "save_button = tkinter.Button(root, text= \"Save Tasks\", width= 45, command= save_task)\n",
    "save_button.pack()\n",
    "\n",
    "\n",
    "\n",
    "root.mainloop()"
   ]
  },
  {
   "cell_type": "code",
   "execution_count": null,
   "id": "31b8c04e",
   "metadata": {},
   "outputs": [],
   "source": []
  },
  {
   "cell_type": "code",
   "execution_count": 37,
   "id": "db1c4c4b",
   "metadata": {},
   "outputs": [],
   "source": []
  },
  {
   "cell_type": "code",
   "execution_count": null,
   "id": "d1983247",
   "metadata": {},
   "outputs": [],
   "source": []
  }
 ],
 "metadata": {
  "kernelspec": {
   "display_name": "Python 3 (ipykernel)",
   "language": "python",
   "name": "python3"
  },
  "language_info": {
   "codemirror_mode": {
    "name": "ipython",
    "version": 3
   },
   "file_extension": ".py",
   "mimetype": "text/x-python",
   "name": "python",
   "nbconvert_exporter": "python",
   "pygments_lexer": "ipython3",
   "version": "3.10.9"
  }
 },
 "nbformat": 4,
 "nbformat_minor": 5
}

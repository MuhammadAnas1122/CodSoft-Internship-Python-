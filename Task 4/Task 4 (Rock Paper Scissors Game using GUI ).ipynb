{
 "cells": [
  {
   "cell_type": "markdown",
   "id": "4d38655f",
   "metadata": {},
   "source": [
    "# Rock-Paper-Scissors Game"
   ]
  },
  {
   "cell_type": "markdown",
   "id": "336dbb1d",
   "metadata": {},
   "source": [
    "## Libraries "
   ]
  },
  {
   "cell_type": "code",
   "execution_count": null,
   "id": "c1b9302c",
   "metadata": {},
   "outputs": [],
   "source": [
    "import tkinter as tk\n",
    "import random"
   ]
  },
  {
   "cell_type": "code",
   "execution_count": 11,
   "id": "6ffa71a6",
   "metadata": {},
   "outputs": [],
   "source": [
    "\n",
    "# Functions \n",
    "def get_computer_choice():\n",
    "    choices = [\"Rock\", \"Paper\", \"Scissors\"]\n",
    "    return random.choice(choices)\n",
    "\n",
    "def play_rock():\n",
    "    play_round(\"Rock\")\n",
    "\n",
    "def play_paper():\n",
    "    play_round(\"Paper\")\n",
    "\n",
    "def play_scissors():\n",
    "    play_round(\"Scissors\")\n",
    "\n",
    "def play_round(user_choice):\n",
    "    global user_score, computer_score\n",
    "    computer_choice = get_computer_choice()\n",
    "\n",
    "    result_label.config(text=f\"Your choice: {user_choice}\\nComputer's choice: {computer_choice}\")\n",
    "     \n",
    "    # when user chioice and cmputer coice will be same \n",
    "    if user_choice == computer_choice:\n",
    "        result_label.config(text=result_label.cget(\"text\") + \"\\n Game Draw!\")\n",
    "    \n",
    "    # for user wining circumstances\n",
    "    elif (\n",
    "        (user_choice == \"Rock\" and computer_choice == \"Scissors\")\n",
    "        or (user_choice == \"Paper\" and computer_choice == \"Rock\")\n",
    "        or (user_choice == \"Scissors\" and computer_choice == \"Paper\")\n",
    "    ):\n",
    "        user_score += 1\n",
    "        result_label.config(text=result_label.cget(\"text\") + \"\\nYou win!\")\n",
    "    # for Computer win circumstances\n",
    "    else:\n",
    "        computer_score += 1\n",
    "        result_label.config(text=result_label.cget(\"text\") + \"\\nComputer wins!\")\n",
    "\n",
    "    update_score_labels()\n",
    "\n",
    "def update_score_labels():\n",
    "    user_score_label.config(text=f\"Your Score: {user_score}\")\n",
    "    computer_score_label.config(text=f\"Computer Score: {computer_score}\")\n",
    "\n",
    "def reset_game():\n",
    "    global user_score, computer_score\n",
    "    user_score = 0\n",
    "    computer_score = 0\n",
    "    update_score_labels()\n",
    "    result_label.config(text=\"Make your choice below!\")\n",
    "\n",
    "def exit_game():\n",
    "    window.destroy()\n",
    "\n",
    "user_score = 0\n",
    "computer_score = 0\n",
    "\n",
    "window = tk.Tk()\n",
    "window.title(\"Rock-Paper-Scissors Game\")\n",
    "window.geometry(\"500x350\")\n",
    "\n",
    "# Labels \n",
    "result_label = tk.Label(window, text=\"Make your choice below!\", font=(\"Helvetica\", 16))\n",
    "result_label.pack()\n",
    "\n",
    "user_score_label = tk.Label(window, text=\"Your Score: 0\", font=(\"Helvetica\", 12))\n",
    "user_score_label.pack()\n",
    "computer_score_label = tk.Label(window, text=\"Computer Score: 0\", font=(\"Helvetica\", 12))\n",
    "computer_score_label.pack()\n",
    "\n",
    "\n",
    "# Buttons \n",
    "rock_button = tk.Button(window, text=\"Rock\", command=play_rock)\n",
    "paper_button = tk.Button(window, text=\"Paper\", command=play_paper)\n",
    "scissors_button = tk.Button(window, text=\"Scissors\", command=play_scissors)\n",
    "\n",
    "rock_button.pack()\n",
    "paper_button.pack()\n",
    "scissors_button.pack()\n",
    "\n",
    "reset_button = tk.Button(window, text=\"Play Again\", command=reset_game)\n",
    "exit_button = tk.Button(window, text=\"Exit Game\", command=exit_game)\n",
    "\n",
    "reset_button.pack()\n",
    "exit_button.pack()\n",
    "\n",
    "window.mainloop()\n"
   ]
  },
  {
   "cell_type": "code",
   "execution_count": null,
   "id": "cba818fe",
   "metadata": {},
   "outputs": [],
   "source": []
  }
 ],
 "metadata": {
  "kernelspec": {
   "display_name": "Python 3 (ipykernel)",
   "language": "python",
   "name": "python3"
  },
  "language_info": {
   "codemirror_mode": {
    "name": "ipython",
    "version": 3
   },
   "file_extension": ".py",
   "mimetype": "text/x-python",
   "name": "python",
   "nbconvert_exporter": "python",
   "pygments_lexer": "ipython3",
   "version": "3.10.9"
  }
 },
 "nbformat": 4,
 "nbformat_minor": 5
}

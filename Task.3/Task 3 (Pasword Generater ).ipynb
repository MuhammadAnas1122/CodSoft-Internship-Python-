{
 "cells": [
  {
   "cell_type": "markdown",
   "id": "d39a0281",
   "metadata": {},
   "source": [
    "# Pasword Generator\n",
    "\n",
    "**A password generator is a useful tool that generates strong and random passwords for users. This project aims to create a password generator application using Python, allowing users to specify the length and complexity of the password**"
   ]
  },
  {
   "cell_type": "markdown",
   "id": "db3d78b7",
   "metadata": {},
   "source": [
    "## Libraries"
   ]
  },
  {
   "cell_type": "code",
   "execution_count": 45,
   "id": "c58f01e3",
   "metadata": {},
   "outputs": [],
   "source": [
    "import tkinter\n",
    "from random import randint\n"
   ]
  },
  {
   "cell_type": "code",
   "execution_count": 46,
   "id": "acde682d",
   "metadata": {},
   "outputs": [],
   "source": [
    "root = Tk()\n",
    "root.title(\"MAD.com- String Pasword Generator\")\n",
    "root.geometry(\"500x300\")\n",
    "\n",
    "# Generate the Random Strong Password\n",
    "def new_rand():\n",
    "     # Clear our Enter Box \n",
    "    pw_EntryBox.delete(0, END)\n",
    "    \n",
    "    # Get the Pasword Length and convert to integer \n",
    "    pw_lenth = int(Entry_box.get())\n",
    "    \n",
    "    # create the empty Valiable to hold the pasword\n",
    "    my_pasword = ''\n",
    "\n",
    "    # loop through pasword length \n",
    "    for x in range(pw_lenth):\n",
    "        my_pasword  += chr(randint(33, 126))\n",
    "\n",
    "    # Output paswrd to  the screen\n",
    "    pw_EntryBox.insert(0, my_pasword)\n",
    "\n",
    "\n",
    "def clipper():\n",
    "       # Clear the Clipboard\n",
    "        root.clipboard_clear()\n",
    "        # Copy on Clipboard \n",
    "        root.clipboard_append(pw_EntryBox.get())\n",
    "        \n",
    "        \n",
    "        \n",
    "# Label Frame \n",
    "lf = LabelFrame(root, text= \"How many Characters? \")\n",
    "lf.pack(pady=20)\n",
    "\n",
    "# Creating the Entry Box to Designated number of Characters \n",
    "Entry_box = Entry(lf, font= (\"timesNewRoman\", 20 ))\n",
    "Entry_box.pack(pady=20, padx=20)\n",
    "\n",
    "#Creating the Entry Box for our returned Pasword\n",
    "pw_EntryBox = Entry(root, text =\"\", font=(\"timesNewRoman\", 20), bd= 0 , bg = \"systembuttonface\")\n",
    "pw_EntryBox.pack(pady=20)\n",
    "\n",
    "\n",
    "# Create the Frames for Buttons\n",
    "\n",
    "My_Frame = Frame(root)\n",
    "My_Frame.pack()\n",
    "\n",
    "# Create the Buttons \n",
    "My_Button = Button(My_Frame, text= \"Generte the Strong pasword...!\", command =new_rand)\n",
    "My_Button.grid(row=0, column=0, padx= 10)\n",
    "\n",
    "\n",
    "clip_button = Button(My_Frame, text = \"Copy to Clip Board!\", command = clipper)\n",
    "clip_button.grid(row=0, column=1, padx= 10)\n",
    "root.mainloop()"
   ]
  },
  {
   "cell_type": "code",
   "execution_count": null,
   "id": "568b2c33",
   "metadata": {},
   "outputs": [],
   "source": []
  }
 ],
 "metadata": {
  "kernelspec": {
   "display_name": "Python 3 (ipykernel)",
   "language": "python",
   "name": "python3"
  },
  "language_info": {
   "codemirror_mode": {
    "name": "ipython",
    "version": 3
   },
   "file_extension": ".py",
   "mimetype": "text/x-python",
   "name": "python",
   "nbconvert_exporter": "python",
   "pygments_lexer": "ipython3",
   "version": "3.10.9"
  }
 },
 "nbformat": 4,
 "nbformat_minor": 5
}
